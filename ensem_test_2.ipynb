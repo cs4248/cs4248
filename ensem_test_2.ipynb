{
 "cells": [
  {
   "cell_type": "code",
   "execution_count": 1,
   "metadata": {},
   "outputs": [],
   "source": [
    "# since this file only test 2 models together, and train_moe_labels.txt contains numbers from\n",
    "# all 5 models, we gotta force it all into 2 numbers only. (Or else cuda will crash xpp)\n",
    "\n",
    "with open('train_moe_labels.txt','r') as f, open('examples.txt', 'w') as w:\n",
    "    for line in f:\n",
    "        num = int(line)\n",
    "        if num == 3:\n",
    "            w.write(str(1) + '\\n')\n",
    "        else:\n",
    "            w.write(str(0) + '\\n')"
   ]
  },
  {
   "cell_type": "code",
   "execution_count": 2,
   "metadata": {},
   "outputs": [
    {
     "name": "stderr",
     "output_type": "stream",
     "text": [
      "c:\\Users\\User\\.conda\\envs\\cs4248\\Lib\\site-packages\\tqdm\\auto.py:21: TqdmWarning: IProgress not found. Please update jupyter and ipywidgets. See https://ipywidgets.readthedocs.io/en/stable/user_install.html\n",
      "  from .autonotebook import tqdm as notebook_tqdm\n",
      "c:\\Users\\User\\.conda\\envs\\cs4248\\Lib\\site-packages\\transformers\\models\\marian\\tokenization_marian.py:175: UserWarning: Recommended: pip install sacremoses.\n",
      "  warnings.warn(\"Recommended: pip install sacremoses.\")\n"
     ]
    }
   ],
   "source": [
    "from transformers import AutoModelForSeq2SeqLM, M2M100ForConditionalGeneration, AutoTokenizer\n",
    "from datasets import Dataset\n",
    "import torch\n",
    "\n",
    "models = [\n",
    "    AutoModelForSeq2SeqLM.from_pretrained(\"Helsinki-NLP/opus-mt-zh-en\").to(\"cuda\"),\n",
    "    M2M100ForConditionalGeneration.from_pretrained(\"alirezamsh/small100\").to(\"cuda\")\n",
    "]\n",
    "\n",
    "tokenizers = [\n",
    "    AutoTokenizer.from_pretrained(\"Helsinki-NLP/opus-mt-zh-en\"),\n",
    "    AutoTokenizer.from_pretrained(\"alirezamsh/small100\"),\n",
    "]"
   ]
  },
  {
   "cell_type": "code",
   "execution_count": 34,
   "metadata": {},
   "outputs": [],
   "source": [
    "class EnsembleModel(torch.nn.Module):\n",
    "    def __init__(self):\n",
    "        super().__init__()\n",
    "\n",
    "        self.l1 = torch.nn.Linear(193113, 512).to('cuda')\n",
    "        self.l2 = torch.nn.LeakyReLU(0.1)\n",
    "        self.l3 = torch.nn.Linear(512, 2).to('cuda')\n",
    "\n",
    "    def forward(self, concatted_outputs):\n",
    "        # print(len(concatted_outputs))\n",
    "        x = self.l1(concatted_outputs)\n",
    "        x = self.l2(x)\n",
    "        x = self.l3(x)\n",
    "        return x"
   ]
  },
  {
   "cell_type": "code",
   "execution_count": 35,
   "metadata": {},
   "outputs": [],
   "source": [
    "from utils import read_file\n",
    "from torch.utils.data import Dataset as Ds, Subset\n",
    "\n",
    "class TrainingDataset(Ds):\n",
    "    def __init__(self, text_path, lab_path, models, model_tokenizers):\n",
    "        '''\n",
    "        dataset_reduce_scale = reduce the sample size of the dataset. \n",
    "        E.g dataset_reduce_scale=5 on sample size 100, basically reduce sample size from 100 to 20.\n",
    "        '''\n",
    "        self.untranslated_texts = read_file(text_path)\n",
    "        self.best_model_idx_labels = read_file(lab_path)\n",
    "\n",
    "        self.model_tokenizers = model_tokenizers\n",
    "        self.models = models\n",
    "\n",
    "        start_token_ids = [model.config.decoder_start_token_id for model in self.models]\n",
    "        self.decoder_input_ids_list = [torch.tensor([[start_token_id]]).to(\"cuda\") for start_token_id in start_token_ids]\n",
    "\n",
    "    def __len__(self):\n",
    "        return len(self.untranslated_texts)\n",
    "    \n",
    "    def __getitem__(self, idx):\n",
    "        untranslated_text = self.untranslated_texts[idx]\n",
    "        concatted_outputs = self.create_model_input(untranslated_text)\n",
    "    \n",
    "        best_model_idx = torch.tensor(int(self.best_model_idx_labels[idx]))\n",
    "        \n",
    "        return concatted_outputs, best_model_idx\n",
    "    \n",
    "    def create_model_input(self, untranslated_text):\n",
    "        with torch.no_grad():\n",
    "            tokenized_texts = [tokenizer(untranslated_text, return_tensors=\"pt\").to(\"cuda\") for tokenizer in self.model_tokenizers]\n",
    "            output_logits = [model(**tokenized_text, decoder_input_ids=decoder_input_ids).logits for model, tokenized_text, decoder_input_ids in zip(models, tokenized_texts, self.decoder_input_ids_list)]\n",
    "            concatted_outputs = torch.cat(output_logits, dim=-1)\n",
    "            concatted_outputs = concatted_outputs.squeeze()\n",
    "        return concatted_outputs\n",
    "    \n",
    "    # def get_chosen_sentence(self, model_output, tokenized_texts):\n",
    "    #     best_idx = torch.argmax(model_output)\n",
    "    #     model_chosen = self.models[best_idx]\n",
    "    #     model_tokenizer_chosen = self.model_tokenizers[best_idx]\n",
    "    #     \n",
    "    #     tokenized_text_chosen_of_model = tokenized_texts[best_idx]\n",
    "    #     outputs = model_chosen.generate(**tokenized_text_chosen_of_model)\n",
    "    #     decoded_outputs = model_tokenizer_chosen.decode(outputs[0], skip_special_tokens=True)\n",
    "    #     return decoded_outputs"
   ]
  },
  {
   "cell_type": "code",
   "execution_count": 36,
   "metadata": {},
   "outputs": [],
   "source": [
    "import datetime\n",
    "from torch.utils.data import DataLoader\n",
    "\n",
    "def train(model, dataset, batch_size, learning_rate, num_epoch, model_path=None):\n",
    "    \"\"\"\n",
    "    Complete the training procedure below by specifying the loss function\n",
    "    and optimizers with the specified learning rate and specified number of epoch.\n",
    "\n",
    "    \"\"\"\n",
    "    data_loader = DataLoader(dataset, batch_size=batch_size, shuffle=True)\n",
    "\n",
    "    criterion = torch.nn.CrossEntropyLoss()\n",
    "    optimizer = torch.optim.Adam(model.parameters(), lr=learning_rate)\n",
    "\n",
    "    start = datetime.datetime.now()\n",
    "    for epoch in range(num_epoch):\n",
    "        model.train()\n",
    "        running_loss = 0.0\n",
    "        for step, data in enumerate(data_loader, 0):\n",
    "            # get the inputs; data is a list of [inputs, labels]\n",
    "            untranslated_text = data[0].to('cuda')\n",
    "            best_model_idx = data[1].to('cuda')\n",
    "\n",
    "            # zero the parameter gradients\n",
    "            model.zero_grad()\n",
    "\n",
    "            # do forward propagation\n",
    "            probs = model(untranslated_text)\n",
    "\n",
    "            # calculate the loss\n",
    "            loss = criterion(probs, best_model_idx)\n",
    "\n",
    "\n",
    "            # do backward propagation\n",
    "            loss.backward()\n",
    "\n",
    "            # do the parameter optimization\n",
    "            optimizer.step()\n",
    "\n",
    "            # calculate running loss value for non padding\n",
    "            running_loss += loss.item()\n",
    "\n",
    "            # print loss value every 100 iterations and reset running loss\n",
    "            if step % 100 == 99:\n",
    "                print('[%d, %5d] loss: %.10f' %\n",
    "                    (epoch + 1, step + 1, running_loss / 100))\n",
    "                running_loss = 0.0\n",
    "\n",
    "    end = datetime.datetime.now()\n",
    "    \n",
    "    # define the checkpoint and save it to the model path\n",
    "    # tip: the checkpoint can contain more than just the model\n",
    "    checkpoint = {\n",
    "        'model_state_dict': model.state_dict(),\n",
    "    }\n",
    "    torch.save(checkpoint, model_path)\n",
    "\n",
    "    print('Model saved in ', model_path)\n",
    "    print('Training finished in {} minutes.'.format((end - start).seconds / 60.0))"
   ]
  },
  {
   "cell_type": "code",
   "execution_count": 37,
   "metadata": {},
   "outputs": [],
   "source": [
    "import numpy as np\n",
    "\n",
    "# Init training data\n",
    "subset_size = 1000\n",
    "dataset = TrainingDataset(\"train.zh-en.zh\", \"examples.txt\", models, tokenizers)\n",
    "indices = list(range(subset_size))  # Define a list of indices\n",
    "subset = Subset(dataset, indices)"
   ]
  },
  {
   "cell_type": "code",
   "execution_count": 38,
   "metadata": {},
   "outputs": [
    {
     "name": "stdout",
     "output_type": "stream",
     "text": [
      "[1,   100] loss: 0.5386774942\n",
      "[1,   200] loss: 0.5442860007\n",
      "[1,   300] loss: 0.4632499961\n",
      "[1,   400] loss: 0.4712505801\n",
      "[1,   500] loss: 0.3522375752\n",
      "[2,   100] loss: 0.3660105564\n",
      "[2,   200] loss: 0.4962346432\n",
      "[2,   300] loss: 0.4549467961\n",
      "[2,   400] loss: 0.5734355169\n",
      "[2,   500] loss: 0.4184263559\n",
      "[3,   100] loss: 0.4012219616\n",
      "[3,   200] loss: 0.4385924774\n",
      "[3,   300] loss: 0.4125304909\n",
      "[3,   400] loss: 0.4419923299\n",
      "[3,   500] loss: 0.4435784630\n",
      "Model saved in  model.pt\n",
      "Training finished in 2.0833333333333335 minutes.\n"
     ]
    }
   ],
   "source": [
    "train(EnsembleModel().to('cuda'), subset, 2, 0.00000005, 3, 'model.pt')"
   ]
  },
  {
   "cell_type": "code",
   "execution_count": 39,
   "metadata": {},
   "outputs": [],
   "source": [
    "def predict_sentence_from_model(dataset, model, untranslated_text):\n",
    "    model_input = dataset.create_model_input(untranslated_text)\n",
    "    best_idx = torch.argmax(model(model_input))\n",
    "    model_chosen = dataset.models[best_idx]\n",
    "    model_tokenizer_chosen = dataset.model_tokenizers[best_idx]\n",
    "    \n",
    "    inputs = model_tokenizer_chosen(untranslated_text, return_tensors=\"pt\").to(\"cuda\")\n",
    "    outputs = model_chosen.generate(**inputs)\n",
    "    decoded_outputs = model_tokenizer_chosen.decode(outputs[0], skip_special_tokens=True)\n",
    "    return decoded_outputs"
   ]
  },
  {
   "cell_type": "markdown",
   "metadata": {},
   "source": [
    "# Load model"
   ]
  },
  {
   "cell_type": "code",
   "execution_count": 40,
   "metadata": {},
   "outputs": [
    {
     "name": "stderr",
     "output_type": "stream",
     "text": [
      "C:\\Users\\User\\AppData\\Local\\Temp\\ipykernel_30912\\4219589001.py:1: FutureWarning: You are using `torch.load` with `weights_only=False` (the current default value), which uses the default pickle module implicitly. It is possible to construct malicious pickle data which will execute arbitrary code during unpickling (See https://github.com/pytorch/pytorch/blob/main/SECURITY.md#untrusted-models for more details). In a future release, the default value for `weights_only` will be flipped to `True`. This limits the functions that could be executed during unpickling. Arbitrary objects will no longer be allowed to be loaded via this mode unless they are explicitly allowlisted by the user via `torch.serialization.add_safe_globals`. We recommend you start setting `weights_only=True` for any use case where you don't have full control of the loaded file. Please open an issue on GitHub for any issues related to this experimental feature.\n",
      "  checkpoint = torch.load('model.pt')\n"
     ]
    },
    {
     "data": {
      "text/plain": [
       "<All keys matched successfully>"
      ]
     },
     "execution_count": 40,
     "metadata": {},
     "output_type": "execute_result"
    }
   ],
   "source": [
    "checkpoint = torch.load('model.pt')\n",
    "model_state_dict = checkpoint['model_state_dict']\n",
    "\n",
    "trained_model = EnsembleModel().to('cuda')\n",
    "trained_model.load_state_dict(model_state_dict)"
   ]
  },
  {
   "cell_type": "code",
   "execution_count": null,
   "metadata": {},
   "outputs": [
    {
     "ename": "FileNotFoundError",
     "evalue": "[Errno 2] No such file or directory: 'tateoba.zh'",
     "output_type": "error",
     "traceback": [
      "\u001b[1;31m---------------------------------------------------------------------------\u001b[0m",
      "\u001b[1;31mFileNotFoundError\u001b[0m                         Traceback (most recent call last)",
      "Cell \u001b[1;32mIn[41], line 1\u001b[0m\n\u001b[1;32m----> 1\u001b[0m \u001b[38;5;28;01mwith\u001b[39;00m \u001b[38;5;28;43mopen\u001b[39;49m\u001b[43m(\u001b[49m\u001b[38;5;124;43m'\u001b[39;49m\u001b[38;5;124;43mtateoba.zh\u001b[39;49m\u001b[38;5;124;43m'\u001b[39;49m\u001b[43m,\u001b[49m\u001b[38;5;124;43m'\u001b[39;49m\u001b[38;5;124;43mr\u001b[39;49m\u001b[38;5;124;43m'\u001b[39;49m\u001b[43m)\u001b[49m \u001b[38;5;28;01mas\u001b[39;00m f, \u001b[38;5;28mopen\u001b[39m(\u001b[38;5;124m'\u001b[39m\u001b[38;5;124mpred.txt\u001b[39m\u001b[38;5;124m'\u001b[39m, \u001b[38;5;124m'\u001b[39m\u001b[38;5;124mw\u001b[39m\u001b[38;5;124m'\u001b[39m) \u001b[38;5;28;01mas\u001b[39;00m w:\n\u001b[0;32m      2\u001b[0m     \u001b[38;5;28;01mfor\u001b[39;00m i, line \u001b[38;5;129;01min\u001b[39;00m \u001b[38;5;28menumerate\u001b[39m(f):\n\u001b[0;32m      3\u001b[0m         pred \u001b[38;5;241m=\u001b[39m predict_sentence_from_model(dataset, EnsembleModel(), line)\n",
      "File \u001b[1;32mc:\\Users\\User\\.conda\\envs\\cs4248\\Lib\\site-packages\\IPython\\core\\interactiveshell.py:324\u001b[0m, in \u001b[0;36m_modified_open\u001b[1;34m(file, *args, **kwargs)\u001b[0m\n\u001b[0;32m    317\u001b[0m \u001b[38;5;28;01mif\u001b[39;00m file \u001b[38;5;129;01min\u001b[39;00m {\u001b[38;5;241m0\u001b[39m, \u001b[38;5;241m1\u001b[39m, \u001b[38;5;241m2\u001b[39m}:\n\u001b[0;32m    318\u001b[0m     \u001b[38;5;28;01mraise\u001b[39;00m \u001b[38;5;167;01mValueError\u001b[39;00m(\n\u001b[0;32m    319\u001b[0m         \u001b[38;5;124mf\u001b[39m\u001b[38;5;124m\"\u001b[39m\u001b[38;5;124mIPython won\u001b[39m\u001b[38;5;124m'\u001b[39m\u001b[38;5;124mt let you open fd=\u001b[39m\u001b[38;5;132;01m{\u001b[39;00mfile\u001b[38;5;132;01m}\u001b[39;00m\u001b[38;5;124m by default \u001b[39m\u001b[38;5;124m\"\u001b[39m\n\u001b[0;32m    320\u001b[0m         \u001b[38;5;124m\"\u001b[39m\u001b[38;5;124mas it is likely to crash IPython. If you know what you are doing, \u001b[39m\u001b[38;5;124m\"\u001b[39m\n\u001b[0;32m    321\u001b[0m         \u001b[38;5;124m\"\u001b[39m\u001b[38;5;124myou can use builtins\u001b[39m\u001b[38;5;124m'\u001b[39m\u001b[38;5;124m open.\u001b[39m\u001b[38;5;124m\"\u001b[39m\n\u001b[0;32m    322\u001b[0m     )\n\u001b[1;32m--> 324\u001b[0m \u001b[38;5;28;01mreturn\u001b[39;00m \u001b[43mio_open\u001b[49m\u001b[43m(\u001b[49m\u001b[43mfile\u001b[49m\u001b[43m,\u001b[49m\u001b[43m \u001b[49m\u001b[38;5;241;43m*\u001b[39;49m\u001b[43margs\u001b[49m\u001b[43m,\u001b[49m\u001b[43m \u001b[49m\u001b[38;5;241;43m*\u001b[39;49m\u001b[38;5;241;43m*\u001b[39;49m\u001b[43mkwargs\u001b[49m\u001b[43m)\u001b[49m\n",
      "\u001b[1;31mFileNotFoundError\u001b[0m: [Errno 2] No such file or directory: 'tateoba.zh'"
     ]
    }
   ],
   "source": [
    "with open('tatoeba.zh','r') as f, open('pred.txt', 'w') as w:\n",
    "    for i, line in enumerate(f):\n",
    "        pred = predict_sentence_from_model(dataset, EnsembleModel(), line)\n",
    "        w.write(pred + '\\n')\n",
    "        print(i)"
   ]
  },
  {
   "cell_type": "markdown",
   "metadata": {},
   "source": [
    "Experimental stuff just ignore\n"
   ]
  },
  {
   "cell_type": "code",
   "execution_count": null,
   "metadata": {},
   "outputs": [],
   "source": [
    "def translate_with_model(model, tokenizer, text, num_beams=5):\n",
    "    inputs = tokenizer(text, return_tensors=\"pt\").to(\"cuda\")\n",
    "    outputs = model.generate(**inputs, num_beams=num_beams, early_stopping=True)\n",
    "    decoded_outputs = tokenizer.decode(outputs[0], skip_special_tokens=True)\n",
    "    print(decoded_outputs)\n",
    "    return outputs\n",
    "\n",
    "statement_to_translate = \"这个苹果怎么样\"\n",
    "outputs = translate_with_model(models[0], tokenizers[0], statement_to_translate)\n",
    "print(outputs)"
   ]
  },
  {
   "cell_type": "code",
   "execution_count": null,
   "metadata": {},
   "outputs": [],
   "source": [
    "example = \"这些成果的主要研究者都是学生，研究覆盖了环境、机械、能源、医疗、生命科学、人文教育等各大领域，同学们从一个好奇的点子开始，创造出了许多具有应用价值的高端发明，其中一些项目已在国内国际获奖。\"\n",
    "\n",
    "t1, t2 = [translate_with_model(model, tokenizer, example) for model, tokenizer in zip(models, tokenizers)]"
   ]
  },
  {
   "cell_type": "code",
   "execution_count": null,
   "metadata": {},
   "outputs": [],
   "source": [
    "start_token_id1 = models[0].config.decoder_start_token_id\n",
    "decoder_input_ids1 = torch.tensor([[start_token_id1]], device=\"cuda\")\n",
    "\n",
    "inputs1 = tokenizers[0](example, return_tensors=\"pt\").to('cuda')\n",
    "logits1 = models[0](**inputs1, decoder_input_ids=decoder_input_ids1).logits\n",
    "\n",
    "\n",
    "start_token_id2 = models[0].config.decoder_start_token_id\n",
    "decoder_input_ids2 = torch.tensor([[start_token_id2]], device=\"cuda\")\n",
    "\n",
    "inputs2 = tokenizers[0](example, return_tensors=\"pt\").to('cuda')\n",
    "logits2 = models[1](**inputs2, decoder_input_ids=decoder_input_ids2).logits\n",
    "\n",
    "print(logits1)\n",
    "print(logits2)"
   ]
  },
  {
   "cell_type": "code",
   "execution_count": null,
   "metadata": {},
   "outputs": [],
   "source": [
    "print(logits1.size(), logits2.size())\n",
    "\n",
    "input_size = logits1.shape[-1] + logits2.shape[-1]\n",
    "hidden_size = 128\n",
    "\n",
    "l1 = torch.nn.Linear(input_size, hidden_size).to(\"cuda\")\n",
    "l2 = torch.nn.Linear(hidden_size, 2).to(\"cuda\")\n",
    "\n",
    "catted_logits = torch.cat([logits1, logits2], dim=-1)\n",
    "x = l1(catted_logits)\n",
    "x = l2(x)\n",
    "torch.nn.Softmax(dim=2)(x)"
   ]
  },
  {
   "cell_type": "code",
   "execution_count": null,
   "metadata": {},
   "outputs": [],
   "source": [
    "predict_sentence_from_model(dataset, EnsembleModel(), example)"
   ]
  }
 ],
 "metadata": {
  "kernelspec": {
   "display_name": "cs4248",
   "language": "python",
   "name": "python3"
  },
  "language_info": {
   "codemirror_mode": {
    "name": "ipython",
    "version": 3
   },
   "file_extension": ".py",
   "mimetype": "text/x-python",
   "name": "python",
   "nbconvert_exporter": "python",
   "pygments_lexer": "ipython3",
   "version": "3.11.10"
  }
 },
 "nbformat": 4,
 "nbformat_minor": 2
}
